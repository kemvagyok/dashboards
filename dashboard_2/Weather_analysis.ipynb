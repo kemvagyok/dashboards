{
 "cells": [
  {
   "cell_type": "code",
   "execution_count": null,
   "metadata": {},
   "outputs": [],
   "source": [
    "import time \n",
    "import datetime\n",
    "import pandas as pd\n",
    "import requests\n",
    "import numpy as np\n",
    "import os\n"
   ]
  },
  {
   "cell_type": "markdown",
   "metadata": {},
   "source": [
    "  <h1>\n",
    "    IDŐJÁRÁS\n",
    "  </h1>\n",
    "  <h2>\n",
    "  Bevezetés\n",
    "  </h2>\n",
    "  <ul>\n",
    "  <li>Hány nap legyen?</li>\n",
    "  <li>Milyen jellemző alapján legyen az elemzés?</li>\n",
    "  <li>Milyen térképet akarok?</li>\n",
    "</ul>\n",
    "  <h2>\n",
    "    Működés\n",
    "  </h2>\n",
    "    <ol>\n",
    "    <li> API-kódodat be kell írni. API-kód megszerzéséért: <a href=\"https://home.openweathermap.org/users/sign_in\">OpenWeather API</a></li>\n",
    "    <li> Legfeljebb 5 napos adatot lehet \"hívni\". Ha többet, akkor Nan adatot fogsz kapni.</li>\n",
    "    </ol>"
   ]
  },
  {
   "cell_type": "code",
   "execution_count": null,
   "metadata": {},
   "outputs": [],
   "source": [
    "api_key=\"\" #Ide be kell írni az API-kódodat\n",
    "file =pd.read_csv(\"citys.csv\") #Beolvasssuk a helyi koordinátait\n",
    "unit = \"metric\" #Celsius fok\n",
    "ago=5 #Hány napos adatot vigyünk be?"
   ]
  },
  {
   "cell_type": "markdown",
   "metadata": {},
   "source": [
    "  <h2>\n",
    "  OpenWeather API beolvasás\n",
    "  </h2>"
   ]
  },
  {
   "cell_type": "code",
   "execution_count": null,
   "metadata": {},
   "outputs": [],
   "source": [
    "def date_to_timestrap(date,delta):\n",
    "        date_string = str(date)\n",
    "        date = datetime.datetime.strptime(date_string, \"%Y-%m-%d\")  \n",
    "        time_df=date-datetime.timedelta(days=delta)\n",
    "        dt = str(int(datetime.datetime.timestamp(time_df)))\n",
    "        return dt\n",
    "    \n",
    "def get(lat,lon,dt,api_key):\n",
    "    json_data=requests.get(\"https://api.openweathermap.org/data/2.5/onecall/timemachine?lat={lat}&lon={lon}&dt={dt}&units={unit}&appid={key}\".format(lat=lat,lon=lon,dt=dt,unit=unit,key=api_key))\n",
    "    return json_data.json()\n",
    "\n",
    "\n",
    "#--------------------------------------------\n",
    "data = None\n",
    "count=0\n",
    "index=pd.Series(np.arange(len(file)),index=file[\"CITY\"]) #Egy adott város nevével kereshetjük a \"citys\" mátrix sorát\n",
    "for (LAT,LON,CITY,COUNTY) in zip(file[\"LAT\"],file[\"LON\"],file[\"CITY\"],file[\"COUNTY\"]):\n",
    "    for delta in range(ago):\n",
    "        dt = date_to_timestrap(datetime.date.today(),delta)\n",
    "        if data is None:                \n",
    "            data= pd.json_normalize(get(LAT,LON,dt,api_key))\n",
    "            data[\"county\"]=COUNTY\n",
    "            count+=1\n",
    "        else:\n",
    "            temp_temp= (pd.json_normalize(get(LAT,LON,dt,api_key)))\n",
    "            data= data.append(temp_temp,ignore_index=True)\n",
    "            data.loc[count,\"county\"]=COUNTY\n",
    "            count+=1\n",
    "    \n",
    "data.index=pd.MultiIndex.from_product([file[\"CITY\"],(range(1,(ago+1)))])"
   ]
  },
  {
   "cell_type": "markdown",
   "metadata": {},
   "source": [
    "<h2>GeoPandas</h2>"
   ]
  },
  {
   "cell_type": "code",
   "execution_count": null,
   "metadata": {},
   "outputs": [],
   "source": [
    "import geopandas\n",
    "import pathlib\n",
    "path_object = pathlib.Path(\"county\")\n",
    "path_object = pathlib.Path(\"county\")\n",
    "df = None\n",
    "for a in path_object.iterdir():\n",
    "    if df is None:\n",
    "        df = geopandas.read_file(a)\n",
    "    else:    \n",
    "        df =df.append(geopandas.read_file(a),ignore_index=True)\n",
    "df =df.sort_values(by=[\"name\"])\n",
    "df[\"centroid\"]=df.centroid\n",
    "df[\"boundary\"]= df.boundary"
   ]
  },
  {
   "cell_type": "markdown",
   "metadata": {},
   "source": [
    "<h2>Térkép területi, készítési függvény</h2>"
   ]
  },
  {
   "cell_type": "code",
   "execution_count": null,
   "metadata": {},
   "outputs": [],
   "source": [
    "def terkep_terulet(df,jellemzo,cim,meddig,mettol=0):\n",
    "    temp= df.copy()\n",
    "    temp[\"jellemzo\"]=data.loc[(file[\"CITY\"],(np.arange(mettol,meddig+1))),:].groupby(\"county\")[[jellemzo]].mean()[jellemzo].sort_index().values\n",
    "    ax=temp.plot(column=\"jellemzo\",cmap='OrRd',edgecolor='k',legend=True,figsize=(40,40))\n",
    "    ax.set_title(cim,size=50)\n",
    "    ax.tick_params(labelsize=40)\n",
    "    fig = ax.figure\n",
    "    cb_ax = fig.axes[1] \n",
    "    cb_ax.tick_params(labelsize=40)\n",
    "\n"
   ]
  },
  {
   "cell_type": "code",
   "execution_count": null,
   "metadata": {},
   "outputs": [],
   "source": [
    "#Egy jellemzőh->X:ország megyeinek a területe színe\n",
    "#Felhőség\n",
    "#HŐMÉRSÉKLET\n",
    "\n",
    "#***Emúlt  nap átlagos hőmérséklete 0--> tegnap 1, tegnap előtt 2..... 5-ig\n",
    "meddig=4\n",
    "mettol=4\n",
    "terkep_terulet(df,\"current.temp\",\"Hőmérséklet\",meddig,mettol)\n",
    "\n",
    "\n"
   ]
  },
  {
   "cell_type": "markdown",
   "metadata": {},
   "source": [
    "<h2>Térkép ponti, készítési függvény</h2>"
   ]
  },
  {
   "cell_type": "code",
   "execution_count": null,
   "metadata": {},
   "outputs": [],
   "source": [
    "# Egy jellemző-->X: ország megyeinek a pontjai színe\n",
    "#Felhőség\n",
    "def terkep_pont(df,jellemzo,cim,meddig,mettol=0):\n",
    "    temp = df.copy()\n",
    "    temp[\"jellemzo\"]=data.loc[(file[\"CITY\"],(np.arange(mettol,meddig+1))),:].groupby(\"county\")[[jellemzo]].mean()[jellemzo].sort_index().values\n",
    "    for item,para in zip(temp[\"centroid\"],temp[\"jellemzo\"]):\n",
    "        temp[\"centroid\"][temp[\"centroid\"]==item] = item.buffer((0.001*para))\n",
    "    ax1 = temp.plot(color=\"black\",figsize=(40,40))\n",
    "    temp = temp.set_geometry(\"centroid\")\n",
    "    ax2= temp.plot(\"jellemzo\",ax=ax1,color=\"white\")\n"
   ]
  },
  {
   "cell_type": "code",
   "execution_count": null,
   "metadata": {},
   "outputs": [],
   "source": [
    "mettol=1\n",
    "meddig=1\n",
    "terkep_pont(df,\"current.clouds\",\"Felhőség\",1,1)\n"
   ]
  },
  {
   "cell_type": "markdown",
   "metadata": {},
   "source": [
    "<h2>Térkép ponti, területi készítési függvény</h2>"
   ]
  },
  {
   "cell_type": "code",
   "execution_count": null,
   "metadata": {},
   "outputs": [],
   "source": [
    "def terkep_tp(df,file_n,szin,cim,jellemzo1,jellemzo2,meddig,mettol=0):\n",
    "    temp = df.copy()\n",
    "    temp[\"jellemzo1\"]=data.loc[(file[\"CITY\"],(np.arange(mettol,meddig+1))),:].groupby(\"county\")[[jellemzo1]].mean()[jellemzo1].sort_index().values\n",
    "    for item,para in zip(temp[\"centroid\"],temp[\"jellemzo1\"]):\n",
    "        temp[\"centroid\"][temp[\"centroid\"]==item] = item.buffer((0.001*para))\n",
    "    temp[\"jellemzo2\"]=data.loc[(file[\"CITY\"],(np.arange(mettol,meddig+1))),:].groupby(\"county\")[[jellemzo2]].mean()[jellemzo2].sort_index().values\n",
    "    ax1=temp.plot(column=\"jellemzo2\",cmap=szin,edgecolor='k',legend=True,figsize=(40,40))\n",
    "    ax1.set_title(\"{}-{} közti nap:{} (Kör-Terület)\".format(mettol,meddig,cim),size=50)\n",
    "    ax1.tick_params(labelsize=40)\n",
    "    fig = ax1.figure\n",
    "    cb_ax = fig.axes[1] \n",
    "    cb_ax.tick_params(labelsize=40)\n",
    "    temp = temp.set_geometry(\"centroid\")\n",
    "    ax2= temp.plot(\"jellemzo1\",ax=ax1,color=\"white\")\n",
    "    filepath = os.path.join(\"maps/\", '{}{}_map_{}.jpg'.format(mettol,meddig,file_n))\n",
    "    chart = ax2.get_figure()\n",
    "    chart.savefig(filepath, dpi=300)"
   ]
  },
  {
   "cell_type": "code",
   "execution_count": null,
   "metadata": {},
   "outputs": [],
   "source": [
    "mettol=1\n",
    "meddig=1\n",
    "jellemzo1=\"current.clouds\"\n",
    "jellemzo2=\"current.temp\"\n",
    "cim=\"Felhő-hőmérséklet viszony\"\n",
    "szin='OrRd'\n",
    "file_n=\"c_t\"\n",
    "for mettol, meddig in zip(range(1,6),range(1,6)):  \n",
    "    terkep_tp(df,file_n,szin,cim,jellemzo1,jellemzo2,meddig,mettol)"
   ]
  },
  {
   "cell_type": "code",
   "execution_count": null,
   "metadata": {},
   "outputs": [],
   "source": [
    "mettol=1\n",
    "meddig=1\n",
    "jellemzo1=\"current.clouds\"\n",
    "jellemzo2=\"current.wind_speed\"\n",
    "cim=\"Szelesség-Felhőség viszony\"\n",
    "szin='Blues'\n",
    "file_n=\"c_ws\"\n",
    "for mettol, meddig in zip(range(1,6),range(1,6)):  \n",
    "    terkep_tp(df,file_n,szin,cim,jellemzo1,jellemzo2,meddig,mettol)\n",
    "    "
   ]
  },
  {
   "cell_type": "code",
   "execution_count": null,
   "metadata": {},
   "outputs": [],
   "source": [
    "data"
   ]
  },
  {
   "cell_type": "code",
   "execution_count": null,
   "metadata": {},
   "outputs": [],
   "source": []
  }
 ],
 "metadata": {
  "kernelspec": {
   "display_name": "Python 3",
   "language": "python",
   "name": "python3"
  },
  "language_info": {
   "codemirror_mode": {
    "name": "ipython",
    "version": 3
   },
   "file_extension": ".py",
   "mimetype": "text/x-python",
   "name": "python",
   "nbconvert_exporter": "python",
   "pygments_lexer": "ipython3",
   "version": "3.9.2"
  }
 },
 "nbformat": 4,
 "nbformat_minor": 2
}
